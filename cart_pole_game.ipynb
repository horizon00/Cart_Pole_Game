{
 "cells": [
  {
   "cell_type": "code",
   "execution_count": null,
   "metadata": {},
   "outputs": [
    {
     "name": "stdout",
     "output_type": "stream",
     "text": [
      "Max Score 500.0\n",
      " * Serving Flask app \"__main__\" (lazy loading)\n",
      " * Environment: production\n",
      "   WARNING: Do not use the development server in a production environment.\n",
      "   Use a production WSGI server instead.\n",
      " * Debug mode: off\n"
     ]
    },
    {
     "name": "stderr",
     "output_type": "stream",
     "text": [
      "/usr/local/lib/python3.6/dist-packages/gym/envs/registration.py:14: PkgResourcesDeprecationWarning: Parameters to load are deprecated.  Call .resolve and .require separately.\n",
      "  result = entry_point.load(False)\n",
      " * Running on http://0.0.0.0:3000/ (Press CTRL+C to quit)\n"
     ]
    }
   ],
   "source": [
    "import gym\n",
    "import numpy as np\n",
    "import matplotlib.pyplot as plt\n",
    "\n",
    "env = gym.make('CartPole-v1')\n",
    "\n",
    "def play(env, policy):\n",
    "    observation = env.reset()\n",
    "  \n",
    "  \n",
    "    done = False\n",
    "    score = 0\n",
    "    observations = []\n",
    "  \n",
    "    for _ in range(5000):\n",
    "        observations += [observation.tolist()] # Record the observations for normalization and replay\n",
    "    \n",
    "    \n",
    "        if done: # If the simulation was over last iteration, exit loop\n",
    "            break\n",
    "      \n",
    "        \n",
    "        # Pick an action according to the policy matrix\n",
    "        outcome = np.dot(policy, observation)\n",
    "        action = 1 if outcome > 0 else 0\n",
    "    \n",
    "        # Make the action, record reward\n",
    "        observation, reward, done, info = env.step(action)\n",
    "        score += reward\n",
    "        \n",
    "        #plt.plot(score)\n",
    "        #plt.plot(observation)\n",
    "\n",
    "    return score, observations\n",
    "\n",
    "\n",
    "max = (0, [], [])\n",
    "\n",
    "for _ in range(10):\n",
    "    policy = np.random.rand(1,4)\n",
    "    score, observations = play(env, policy)\n",
    "    \n",
    "    if score > max[0]:\n",
    "        max = (score, observations, policy)\n",
    "print('Max Score', max[0])\n",
    "\n",
    "from flask import Flask\n",
    "import json\n",
    "\n",
    "\n",
    "app = Flask(__name__, static_folder='.')\n",
    "\n",
    "@app.route(\"/data\")\n",
    "def data():\n",
    "    return json.dumps(max[1])\n",
    "\n",
    "@app.route('/')\n",
    "def root():\n",
    "    return app.send_static_file('./index.html')\n",
    "\n",
    "app.run(host='0.0.0.0', port='3000')\n"
   ]
  },
  {
   "cell_type": "code",
   "execution_count": null,
   "metadata": {},
   "outputs": [],
   "source": []
  }
 ],
 "metadata": {
  "kernelspec": {
   "display_name": "Python 3",
   "language": "python",
   "name": "python3"
  },
  "language_info": {
   "codemirror_mode": {
    "name": "ipython",
    "version": 3
   },
   "file_extension": ".py",
   "mimetype": "text/x-python",
   "name": "python",
   "nbconvert_exporter": "python",
   "pygments_lexer": "ipython3",
   "version": "3.6.7"
  }
 },
 "nbformat": 4,
 "nbformat_minor": 2
}
